{
  "nbformat": 4,
  "nbformat_minor": 0,
  "metadata": {
    "colab": {
      "name": "pro 4.ipynb",
      "provenance": []
    },
    "kernelspec": {
      "name": "python3",
      "display_name": "Python 3"
    }
  },
  "cells": [
    {
      "cell_type": "code",
      "metadata": {
        "id": "MhDbG8NqfVrT",
        "colab_type": "code",
        "colab": {
          "base_uri": "https://localhost:8080/",
          "height": 67
        },
        "outputId": "c26f1d0a-61ba-4288-fc5f-a92906ed4c80"
      },
      "source": [
        "user=input(\"enter the string\")\n",
        "print(\"string in uppercase is\",user.upper())\n",
        "print(\"string in lowercase is\",user.lower())"
      ],
      "execution_count": 1,
      "outputs": [
        {
          "output_type": "stream",
          "text": [
            "enter the stringsuma\n",
            "string in uppercase is SUMA\n",
            "string in lowercase is suma\n"
          ],
          "name": "stdout"
        }
      ]
    }
  ]
}