{
  "nbformat": 4,
  "nbformat_minor": 0,
  "metadata": {
    "colab": {
      "name": "pro 6.ipynb",
      "provenance": []
    },
    "kernelspec": {
      "name": "python3",
      "display_name": "Python 3"
    }
  },
  "cells": [
    {
      "cell_type": "code",
      "metadata": {
        "id": "2SQ6zQRwhDD3",
        "colab_type": "code",
        "colab": {
          "base_uri": "https://localhost:8080/",
          "height": 134
        },
        "outputId": "785b2896-a26a-4bd0-d315-e545eeaa2d79"
      },
      "source": [
        "num=int(input(\"enter the rows\"))\n",
        "for i in range(1,num+1):\n",
        "                         for j in range(1,i+1):\n",
        "                                                print(\"*\",end=\" \")\n",
        "                         print()"
      ],
      "execution_count": 2,
      "outputs": [
        {
          "output_type": "stream",
          "text": [
            "enter the rows6\n",
            "* \n",
            "* * \n",
            "* * * \n",
            "* * * * \n",
            "* * * * * \n",
            "* * * * * * \n"
          ],
          "name": "stdout"
        }
      ]
    }
  ]
}