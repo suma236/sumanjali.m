{
  "nbformat": 4,
  "nbformat_minor": 0,
  "metadata": {
    "colab": {
      "name": "pro 5.ipynb",
      "provenance": []
    },
    "kernelspec": {
      "name": "python3",
      "display_name": "Python 3"
    }
  },
  "cells": [
    {
      "cell_type": "code",
      "metadata": {
        "id": "abX_Fl1AgAvV",
        "colab_type": "code",
        "colab": {
          "base_uri": "https://localhost:8080/",
          "height": 34
        },
        "outputId": "1046d819-74ff-41b0-a4f1-d99568ef7d9b"
      },
      "source": [
        "def char(a,b):\n",
        "               new_a= b[:2] + a[2:]\n",
        "               new_b= a[:2] + b[2:]\n",
        "               return new_a + ' ' + new_b\n",
        "print(char('abc', 'xyz'))"
      ],
      "execution_count": 1,
      "outputs": [
        {
          "output_type": "stream",
          "text": [
            "xyc abz\n"
          ],
          "name": "stdout"
        }
      ]
    }
  ]
}